{
 "cells": [
  {
   "cell_type": "markdown",
   "id": "0c97e5f0-53fd-4b47-9a90-1c56f4bd4a7c",
   "metadata": {},
   "source": [
    "* Jonathan Leeper\n",
    "* Week 10 Final Project - DSC 550"
   ]
  },
  {
   "cell_type": "markdown",
   "id": "42b9caf7-f3a8-4ccf-80a3-40a2549c033f",
   "metadata": {},
   "source": [
    "## <center><b>Predicting Box Office Success: Marvel and DC Movies</b></center>"
   ]
  },
  {
   "cell_type": "markdown",
   "id": "ea20eec9-e89b-453c-b614-251bfd8adab5",
   "metadata": {},
   "source": [
    "# Milestone 1: Data Selection & EDA"
   ]
  },
  {
   "cell_type": "markdown",
   "id": "00d54f23-c89c-4e40-b9ce-dede650b17a3",
   "metadata": {},
   "source": [
    "## Narrative"
   ]
  },
  {
   "cell_type": "markdown",
   "id": "32df20f1-c497-4030-b2c0-c6c897f549fb",
   "metadata": {},
   "source": [
    "For major film studios such as Marvel and DC, predicting the box office success of upcoming movies is critical for strategic planning, budgeting, marketing, and resource allocation. Accurate predictions can help studios optimize promotional strategies, plan sequels, and make informed financial decisions. This can be helpful for future filmmakers as well as the businesses mentioned in exactly what would be necessary for a successful superhero movie.\n",
    "\n",
    "By understanding the factors that contribute to a movie's success, these studios can improve their decision-making processes and maximize profitability. The objective of this project is to develop a predictive model that estimates the box office revenue of Marvel and DC movies from 1978 until 2024. This model will consider various features such as budget, release date, distributor, box office gross, critic scores, as well as other variables for evaluation. The goal is to provide actionable insights that can help Marvel and DC studios strategize more effectively for future movie releases. The target variable for the model will be the box office gross worldwide of a movie.\n",
    "\n",
    "The data for this project has been obtained through Kaggle, with the link listed below, where the included dataset contains attributes for gross income, budget, and other variables that will be helpful in our analysis of this dataset. \n",
    "\n",
    "Within this analysis, we can determine what truly can be achieved and can help future filmmakers focusing within the superhero genre make data-driven decisions, while understanding how the industry should be moving towards optimization with their strategies to maximize the profitability of the films. Below are the different graphs that were requested within this document, and they will be labeled with how this can be seen and followed up upon.\n",
    "\n",
    "\n",
    "Link to dataset: https://www.kaggle.com/datasets/mdtoomey/box-office-of-dc-and-marvel-superhero-movies"
   ]
  },
  {
   "cell_type": "markdown",
   "id": "5c23559f-27d9-4699-9ee8-87f86159cd15",
   "metadata": {},
   "source": [
    "## Introducing Data"
   ]
  },
  {
   "cell_type": "code",
   "execution_count": 1,
   "id": "c1e66695-006f-4b49-9636-3987d7e48466",
   "metadata": {},
   "outputs": [],
   "source": [
    "import pandas as pd\n",
    "import matplotlib.pyplot as plt\n",
    "import seaborn as sns"
   ]
  },
  {
   "cell_type": "code",
   "execution_count": 2,
   "id": "28de3757-076a-445d-b044-a34b968f23cf",
   "metadata": {},
   "outputs": [
    {
     "data": {
      "text/html": [
       "<div>\n",
       "<style scoped>\n",
       "    .dataframe tbody tr th:only-of-type {\n",
       "        vertical-align: middle;\n",
       "    }\n",
       "\n",
       "    .dataframe tbody tr th {\n",
       "        vertical-align: top;\n",
       "    }\n",
       "\n",
       "    .dataframe thead th {\n",
       "        text-align: right;\n",
       "    }\n",
       "</style>\n",
       "<table border=\"1\" class=\"dataframe\">\n",
       "  <thead>\n",
       "    <tr style=\"text-align: right;\">\n",
       "      <th></th>\n",
       "      <th>Film</th>\n",
       "      <th>U.S. release date</th>\n",
       "      <th>Box office gross Domestic (U.S. and Canada )</th>\n",
       "      <th>Box office gross Other territories</th>\n",
       "      <th>Box office gross Worldwide</th>\n",
       "      <th>Budget</th>\n",
       "      <th>MCU</th>\n",
       "      <th>Phase</th>\n",
       "      <th>Distributor</th>\n",
       "      <th>MPAA Rating</th>\n",
       "      <th>...</th>\n",
       "      <th>Character Family</th>\n",
       "      <th>Domestic %</th>\n",
       "      <th>Gross to Budget</th>\n",
       "      <th>Rotten Tomatoes Critic Score</th>\n",
       "      <th>Male/Female-led</th>\n",
       "      <th>Year</th>\n",
       "      <th>Inflation Adjusted Worldwide Gross</th>\n",
       "      <th>Inflation Adjusted Budget</th>\n",
       "      <th>2.5x prod</th>\n",
       "      <th>Break Even</th>\n",
       "    </tr>\n",
       "  </thead>\n",
       "  <tbody>\n",
       "    <tr>\n",
       "      <th>0</th>\n",
       "      <td>Superman</td>\n",
       "      <td>15/12/1978</td>\n",
       "      <td>$134,478,449</td>\n",
       "      <td>$166,000,000</td>\n",
       "      <td>$300,478,449</td>\n",
       "      <td>$55,000,000</td>\n",
       "      <td>False</td>\n",
       "      <td>NaN</td>\n",
       "      <td>Warner Bros.</td>\n",
       "      <td>PG</td>\n",
       "      <td>...</td>\n",
       "      <td>Superman</td>\n",
       "      <td>45%</td>\n",
       "      <td>5.46</td>\n",
       "      <td>94.0</td>\n",
       "      <td>Male</td>\n",
       "      <td>1978.0</td>\n",
       "      <td>$1,404,237,104</td>\n",
       "      <td>$257,033,544</td>\n",
       "      <td>$137,500,000</td>\n",
       "      <td>Success</td>\n",
       "    </tr>\n",
       "    <tr>\n",
       "      <th>1</th>\n",
       "      <td>Superman II</td>\n",
       "      <td>19/06/1981</td>\n",
       "      <td>$108,185,706</td>\n",
       "      <td>$108,200,000</td>\n",
       "      <td>$216,385,706</td>\n",
       "      <td>$54,000,000</td>\n",
       "      <td>False</td>\n",
       "      <td>NaN</td>\n",
       "      <td>Warner Bros.</td>\n",
       "      <td>PG</td>\n",
       "      <td>...</td>\n",
       "      <td>Superman</td>\n",
       "      <td>50%</td>\n",
       "      <td>4.01</td>\n",
       "      <td>83.0</td>\n",
       "      <td>Male</td>\n",
       "      <td>1981.0</td>\n",
       "      <td>$725,336,273</td>\n",
       "      <td>$181,010,842</td>\n",
       "      <td>$135,000,000</td>\n",
       "      <td>Success</td>\n",
       "    </tr>\n",
       "    <tr>\n",
       "      <th>2</th>\n",
       "      <td>Superman III</td>\n",
       "      <td>17/06/1983</td>\n",
       "      <td>$59,950,623</td>\n",
       "      <td>$20,300,000</td>\n",
       "      <td>$80,250,623</td>\n",
       "      <td>$39,000,000</td>\n",
       "      <td>False</td>\n",
       "      <td>NaN</td>\n",
       "      <td>Warner Bros.</td>\n",
       "      <td>PG</td>\n",
       "      <td>...</td>\n",
       "      <td>Superman</td>\n",
       "      <td>75%</td>\n",
       "      <td>2.06</td>\n",
       "      <td>29.0</td>\n",
       "      <td>Male</td>\n",
       "      <td>1983.0</td>\n",
       "      <td>$245,506,947</td>\n",
       "      <td>$119,310,861</td>\n",
       "      <td>$97,500,000</td>\n",
       "      <td>Flop</td>\n",
       "    </tr>\n",
       "    <tr>\n",
       "      <th>3</th>\n",
       "      <td>Supergirl</td>\n",
       "      <td>21/11/1984</td>\n",
       "      <td>$14,296,438</td>\n",
       "      <td>NaN</td>\n",
       "      <td>$14,296,438</td>\n",
       "      <td>$35,000,000</td>\n",
       "      <td>False</td>\n",
       "      <td>NaN</td>\n",
       "      <td>Tri-Star Pictures</td>\n",
       "      <td>PG</td>\n",
       "      <td>...</td>\n",
       "      <td>Superman</td>\n",
       "      <td>100%</td>\n",
       "      <td>0.41</td>\n",
       "      <td>8.0</td>\n",
       "      <td>Female</td>\n",
       "      <td>1984.0</td>\n",
       "      <td>$41,926,345</td>\n",
       "      <td>$102,642,497</td>\n",
       "      <td>$87,500,000</td>\n",
       "      <td>Flop</td>\n",
       "    </tr>\n",
       "    <tr>\n",
       "      <th>4</th>\n",
       "      <td>Howard the Duck</td>\n",
       "      <td>01/08/1986</td>\n",
       "      <td>$16,295,774</td>\n",
       "      <td>$21,667,000</td>\n",
       "      <td>$37,962,774</td>\n",
       "      <td>$37,000,000</td>\n",
       "      <td>False</td>\n",
       "      <td>NaN</td>\n",
       "      <td>Universal Pictures</td>\n",
       "      <td>PG</td>\n",
       "      <td>...</td>\n",
       "      <td>Howard the Duck</td>\n",
       "      <td>43%</td>\n",
       "      <td>1.03</td>\n",
       "      <td>13.0</td>\n",
       "      <td>Male</td>\n",
       "      <td>1986.0</td>\n",
       "      <td>$37,962,774</td>\n",
       "      <td>$37,000,000</td>\n",
       "      <td>$92,500,000</td>\n",
       "      <td>Flop</td>\n",
       "    </tr>\n",
       "  </tbody>\n",
       "</table>\n",
       "<p>5 rows × 23 columns</p>\n",
       "</div>"
      ],
      "text/plain": [
       "              Film U.S. release date  \\\n",
       "0         Superman        15/12/1978   \n",
       "1      Superman II        19/06/1981   \n",
       "2     Superman III        17/06/1983   \n",
       "3        Supergirl        21/11/1984   \n",
       "4  Howard the Duck        01/08/1986   \n",
       "\n",
       "  Box office gross Domestic (U.S. and Canada )  \\\n",
       "0                                 $134,478,449   \n",
       "1                                 $108,185,706   \n",
       "2                                  $59,950,623   \n",
       "3                                  $14,296,438   \n",
       "4                                  $16,295,774   \n",
       "\n",
       "  Box office gross Other territories Box office gross Worldwide       Budget  \\\n",
       "0                       $166,000,000               $300,478,449  $55,000,000   \n",
       "1                       $108,200,000               $216,385,706  $54,000,000   \n",
       "2                        $20,300,000                $80,250,623  $39,000,000   \n",
       "3                                NaN                $14,296,438  $35,000,000   \n",
       "4                        $21,667,000                $37,962,774  $37,000,000   \n",
       "\n",
       "     MCU  Phase         Distributor MPAA Rating  ... Character Family  \\\n",
       "0  False    NaN        Warner Bros.          PG  ...         Superman   \n",
       "1  False    NaN        Warner Bros.          PG  ...         Superman   \n",
       "2  False    NaN        Warner Bros.          PG  ...         Superman   \n",
       "3  False    NaN   Tri-Star Pictures          PG  ...         Superman   \n",
       "4  False    NaN  Universal Pictures          PG  ...  Howard the Duck   \n",
       "\n",
       "   Domestic % Gross to Budget Rotten Tomatoes Critic Score Male/Female-led  \\\n",
       "0         45%            5.46                         94.0            Male   \n",
       "1         50%            4.01                         83.0            Male   \n",
       "2         75%            2.06                         29.0            Male   \n",
       "3        100%            0.41                          8.0          Female   \n",
       "4         43%            1.03                         13.0            Male   \n",
       "\n",
       "     Year  Inflation Adjusted Worldwide Gross Inflation Adjusted Budget  \\\n",
       "0  1978.0                      $1,404,237,104              $257,033,544   \n",
       "1  1981.0                        $725,336,273              $181,010,842   \n",
       "2  1983.0                        $245,506,947              $119,310,861   \n",
       "3  1984.0                         $41,926,345              $102,642,497   \n",
       "4  1986.0                         $37,962,774               $37,000,000   \n",
       "\n",
       "      2.5x prod Break Even  \n",
       "0  $137,500,000    Success  \n",
       "1  $135,000,000    Success  \n",
       "2   $97,500,000       Flop  \n",
       "3   $87,500,000       Flop  \n",
       "4   $92,500,000       Flop  \n",
       "\n",
       "[5 rows x 23 columns]"
      ]
     },
     "execution_count": 2,
     "metadata": {},
     "output_type": "execute_result"
    }
   ],
   "source": [
    "df = pd.read_csv('dc_marvel_movie_performance.csv')\n",
    "df.head()"
   ]
  },
  {
   "cell_type": "markdown",
   "id": "26705cad-330b-49db-bb2f-377c066fe448",
   "metadata": {},
   "source": [
    "As you can see, we have 23 data attributes that can be applied for each film. This includes release date, the gross domestic box office for both north america vs other territories, the combined total, the budget, as well as these adjusted for inflation."
   ]
  },
  {
   "cell_type": "markdown",
   "id": "2b7e2d60-aae4-4f9a-b341-4c30e5b38f3e",
   "metadata": {},
   "source": [
    "**Necessary edits before beginning:**"
   ]
  },
  {
   "cell_type": "code",
   "execution_count": 3,
   "id": "6fc0a66c-684e-486e-9270-e62a23461588",
   "metadata": {},
   "outputs": [],
   "source": [
    "# Convert the 'U.S. release date' from UK format (DD/MM/YYYY) to US format (MM/DD/YYYY)\n",
    "df['U.S. release date'] = pd.to_datetime(df['U.S. release date'], format='%d/%m/%Y')\n",
    "\n",
    "# Format the date to US format\n",
    "df['U.S. release date'] = df['U.S. release date'].dt.strftime('%m/%d/%Y')\n",
    "\n",
    "# Convert Budget column to numeric by removing '$' and ',' and converting to float\n",
    "df['Budget'] = df['Budget'].replace('[\\$,]', '', regex=True).astype(float)\n",
    "\n",
    "# Convert Box office gross Worldwide column to numeric by removing '$' and ',' and converting to float\n",
    "df['Box office gross Worldwide'] = df['Box office gross Worldwide'].replace('[\\$,]', '', regex=True).astype(float)"
   ]
  },
  {
   "cell_type": "markdown",
   "id": "10da9b5d-7e46-49bf-8d5c-fecfa61f9543",
   "metadata": {},
   "source": [
    "Within this specific milestone, there were some edits and cleaning necessary for correct evaluation. The release date needed to be converted from UK format, d/m/y to US format, m/d/y. This will be handy for future graphs and analysis.\n",
    "\n",
    "Also, all units will need to be converted to float for easier viewing within the graphs."
   ]
  },
  {
   "cell_type": "markdown",
   "id": "beea72a9-13c9-4a54-a390-d4cd88725bc7",
   "metadata": {},
   "source": [
    "## Graph 1: Plotting the distribution of Budget by Movie"
   ]
  },
  {
   "cell_type": "code",
   "execution_count": 4,
   "id": "afd938e6-09e6-4ea9-a725-e7bf099fc7bf",
   "metadata": {},
   "outputs": [
    {
     "name": "stderr",
     "output_type": "stream",
     "text": [
      "D:\\Users\\Jonathan\\anaconda3\\Lib\\site-packages\\seaborn\\_oldcore.py:1119: FutureWarning: use_inf_as_na option is deprecated and will be removed in a future version. Convert inf values to NaN before operating instead.\n",
      "  with pd.option_context('mode.use_inf_as_na', True):\n"
     ]
    },
    {
     "data": {
      "image/png": "[encoded data removed]",
      "text/plain": [
       "<Figure size 640x480 with 1 Axes>"
      ]
     },
     "metadata": {},
     "output_type": "display_data"
    }
   ],
   "source": [
    "sns.histplot(df['Budget'], bins=20, kde=True)\n",
    "plt.title('Distribution of Movie Budgets')\n",
    "plt.xlabel('Budget')\n",
    "plt.ylabel('Number of Movies')\n",
    "plt.show()"
   ]
  },
  {
   "cell_type": "markdown",
   "id": "db6ea432-ee9a-4686-9d10-a06cc556360c",
   "metadata": {},
   "source": [
    "Within the histogram above, we can see the average budget for marvel and DC movies, which usually falls into the $200,000,000 range. Thus, knowing our typical budget range can determine where a filmmaker can expect to see their film when it comes to budget."
   ]
  },
  {
   "cell_type": "markdown",
   "id": "d3c51d6f-ae27-4940-b1a6-de8c7926a40b",
   "metadata": {},
   "source": [
    "## Plot 2: Box Office Revenue vs. Rotten Tomatoes Critic Score"
   ]
  },
  {
   "cell_type": "code",
   "execution_count": 5,
   "id": "9a001110-a213-400f-8807-d2521df20b56",
   "metadata": {},
   "outputs": [
    {
     "data": {
      "image/png": "[encoded data removed]",
      "text/plain": [
       "<Figure size 640x480 with 1 Axes>"
      ]
     },
     "metadata": {},
     "output_type": "display_data"
    }
   ],
   "source": [
    "sns.scatterplot(x='Rotten Tomatoes Critic Score', y='Box office gross Worldwide', data=df)\n",
    "plt.title('Box Office Revenue vs. Rotten Tomatoes Critic Score')\n",
    "plt.xlabel('Rotten Tomatoes Critic Score')\n",
    "plt.ylabel('Box Office Gross Worldwide')\n",
    "plt.show()"
   ]
  },
  {
   "cell_type": "markdown",
   "id": "dd6e88e6-5bf7-4c4d-9a6c-477f3a87eeba",
   "metadata": {},
   "source": [
    "As we can see, the usual graph for these movies is that the higher the Rotten Tomatoes Score, the graph usually has a higher gross. This is very handy in knowing that higher scores usually equate with higher revenue."
   ]
  },
  {
   "cell_type": "markdown",
   "id": "91b39537-3734-4749-8c95-54153f49032c",
   "metadata": {},
   "source": [
    "## Plot 3: Average Box Office Gross Worldwide by Distributor"
   ]
  },
  {
   "cell_type": "code",
   "execution_count": 6,
   "id": "8457bb41-1bcf-4db0-860a-4eb8aa6337a1",
   "metadata": {},
   "outputs": [
    {
     "data": {
      "image/png": "[encoded data removed]",
      "text/plain": [
       "<Figure size 640x480 with 1 Axes>"
      ]
     },
     "metadata": {},
     "output_type": "display_data"
    }
   ],
   "source": [
    "distributor_revenue = df.groupby('Distributor')['Box office gross Worldwide'].mean().reset_index()\n",
    "\n",
    "sns.barplot(x='Box office gross Worldwide', y='Distributor', data=distributor_revenue)\n",
    "plt.title('Average Box Office Revenue by Distributor')\n",
    "plt.xlabel('Average Box Office Gross Worldwide')\n",
    "plt.ylabel('Distributor')\n",
    "plt.show()"
   ]
  },
  {
   "cell_type": "markdown",
   "id": "7e767886-1e01-4488-aba9-9d5526d976ae",
   "metadata": {},
   "source": [
    "Within this graph, we can see the average box office gross per distributor, which is handy in knowing how each distributor and their outcome in when it comes to revenue. This can be impactful in determining the strategies put in place by the distributors."
   ]
  },
  {
   "cell_type": "markdown",
   "id": "954e57f8-b5c2-466a-95f9-46064ab62b8f",
   "metadata": {},
   "source": [
    "## Plot 4: Box Office Revenue vs. Budget"
   ]
  },
  {
   "cell_type": "code",
   "execution_count": 7,
   "id": "32711f9c-712b-4a81-a8f5-a5b8b1995269",
   "metadata": {},
   "outputs": [
    {
     "data": {
      "image/png": "[encoded data removed]",
      "text/plain": [
       "<Figure size 640x480 with 1 Axes>"
      ]
     },
     "metadata": {},
     "output_type": "display_data"
    }
   ],
   "source": [
    "sns.scatterplot(x='Budget', y='Box office gross Worldwide', data=df)\n",
    "plt.title('Box Office Revenue vs. Budget')\n",
    "plt.xlabel('Budget')\n",
    "plt.ylabel('Box Office Gross Worldwide')\n",
    "plt.show()"
   ]
  },
  {
   "cell_type": "markdown",
   "id": "5760d2a1-6f7b-4166-bae4-bef8f3b86ee3",
   "metadata": {},
   "source": [
    "Within this graph, we are able to determine the budget when it comes to box office success. It indicates that the average of a higher budget usually results in higher revenue."
   ]
  },
  {
   "cell_type": "markdown",
   "id": "febfde15-2909-499f-9a53-62061fd99565",
   "metadata": {},
   "source": [
    "## Conclusion"
   ]
  },
  {
   "cell_type": "markdown",
   "id": "8e37f17d-1836-403d-843f-cd55796ae7b4",
   "metadata": {},
   "source": [
    "From the graphical analysis, we can start to identify patterns and factors that contribute to the box office success of Marvel and DC movies. For example, if movies with higher budgets generally perform better, studios might consider investing more in production quality. Similarly, if certain distributors or critic scores are associated with higher box office revenues, the studios can prioritize what these elements focus upon in future projects. These insights will guide in developing a predictive model to accurately estimate the box office revenue of upcoming movies."
   ]
  },
  {
   "cell_type": "markdown",
   "id": "354b327f-4b3d-423c-b1ab-242044bdda90",
   "metadata": {},
   "source": [
    "# Milestone 2: Data Preparation"
   ]
  },
  {
   "cell_type": "markdown",
   "id": "91865439-7432-495b-9df4-caccdc8398a0",
   "metadata": {},
   "source": [
    "## Step 1: Dropping Useless Features"
   ]
  },
  {
   "cell_type": "code",
   "execution_count": 8,
   "id": "2839c46d-5204-422c-9e05-c14a01513694",
   "metadata": {},
   "outputs": [],
   "source": [
    "columns_to_drop = [\n",
    "    'Length', 'Phase', '2.5x prod', 'Character Family', 'Gross to Budget'\n",
    "]\n",
    "\n",
    "df = df.drop(columns=columns_to_drop)"
   ]
  },
  {
   "cell_type": "markdown",
   "id": "1a839cfc-5927-4979-b386-7f5be8ea88a0",
   "metadata": {},
   "source": [
    "Within this dataset, the four features that I have decided to drop are Phase, 2.5x prod, Character Family, and Gross to Budget. Within the dataset, these have very little use for my model, as they all have superfluous reasonings for being included.\n",
    "\n",
    "**Length**: I have removed this as this is redundant with \"Minutes\" already being a category.\n",
    "\n",
    "**Phase:** This was eliminated because, although important when it comes to understanding when this movie was released and how it was included within the MCU timeline, do not have bearing on predicting the box office success.\n",
    "\n",
    "**2.5x prod**: This is another entry that does not help with the data preparation, as it is mainly irrelevant.\n",
    "\n",
    "**Character Family**: Although the superhero genre is mainly dominated by a few different superheros, this would be hard to use in any sort of data models as the popularity of a character cannot be predicted, it is already determined.\n",
    "\n",
    "**Gross to Budget**: This feature is irrelevant as the success of a movie can be determined in other methods."
   ]
  },
  {
   "cell_type": "markdown",
   "id": "07c2fec2-bbd6-4c72-a9b6-255fff610f91",
   "metadata": {},
   "source": [
    "## Step 2: Filling Missing Values"
   ]
  },
  {
   "cell_type": "markdown",
   "id": "21392038-3e1d-4f72-b13a-6298faa08fc8",
   "metadata": {},
   "source": [
    "Within this dataset, the data has been cleaned thoroughly and includes all relevant data. However, I would like to fill in missing values in Box Office Gross - other territories with 0. This is because the international gross across all data sources is combined with domestic, and the reported number within box office gross is correct worldwide."
   ]
  },
  {
   "cell_type": "code",
   "execution_count": 9,
   "id": "3e62fb79-0ed8-4c11-987b-2232245a7444",
   "metadata": {},
   "outputs": [],
   "source": [
    "df.loc[df['Film'] == 'Supergirl', 'Box office gross Other territories'] = 0"
   ]
  },
  {
   "cell_type": "markdown",
   "id": "fb2a046f-c9c9-495b-a53e-9af02cf95715",
   "metadata": {},
   "source": [
    "This is helpful as instead of this being treated as NaN it can now be treated as a value."
   ]
  },
  {
   "cell_type": "markdown",
   "id": "2330b9bf-edbd-43cf-83ee-9ee97152cae5",
   "metadata": {},
   "source": [
    "## Step 3: Add Dummy Variables"
   ]
  },
  {
   "cell_type": "markdown",
   "id": "2622ed3d-3cb6-4a77-8992-4c0b15aa4afc",
   "metadata": {},
   "source": [
    "For Franchise, Male/Female-led, and Break Even, I would like to implement dummy variables."
   ]
  },
  {
   "cell_type": "code",
   "execution_count": 10,
   "id": "ca2b6616-a0c0-4700-a52f-80ab7015e569",
   "metadata": {},
   "outputs": [],
   "source": [
    "df = pd.get_dummies(df, columns=['Franchise', 'Male/Female-led', 'Break Even'])"
   ]
  },
  {
   "cell_type": "code",
   "execution_count": 11,
   "id": "6c035bf6-583a-4f21-a760-6f7c02f7ec57",
   "metadata": {},
   "outputs": [
    {
     "data": {
      "text/html": [
       "<div>\n",
       "<style scoped>\n",
       "    .dataframe tbody tr th:only-of-type {\n",
       "        vertical-align: middle;\n",
       "    }\n",
       "\n",
       "    .dataframe tbody tr th {\n",
       "        vertical-align: top;\n",
       "    }\n",
       "\n",
       "    .dataframe thead th {\n",
       "        text-align: right;\n",
       "    }\n",
       "</style>\n",
       "<table border=\"1\" class=\"dataframe\">\n",
       "  <thead>\n",
       "    <tr style=\"text-align: right;\">\n",
       "      <th></th>\n",
       "      <th>Film</th>\n",
       "      <th>U.S. release date</th>\n",
       "      <th>Box office gross Domestic (U.S. and Canada )</th>\n",
       "      <th>Box office gross Other territories</th>\n",
       "      <th>Box office gross Worldwide</th>\n",
       "      <th>Budget</th>\n",
       "      <th>MCU</th>\n",
       "      <th>Distributor</th>\n",
       "      <th>MPAA Rating</th>\n",
       "      <th>Minutes</th>\n",
       "      <th>...</th>\n",
       "      <th>Year</th>\n",
       "      <th>Inflation Adjusted Worldwide Gross</th>\n",
       "      <th>Inflation Adjusted Budget</th>\n",
       "      <th>Franchise_DC</th>\n",
       "      <th>Franchise_Marvel</th>\n",
       "      <th>Male/Female-led_Co-starring</th>\n",
       "      <th>Male/Female-led_Female</th>\n",
       "      <th>Male/Female-led_Male</th>\n",
       "      <th>Break Even_Flop</th>\n",
       "      <th>Break Even_Success</th>\n",
       "    </tr>\n",
       "  </thead>\n",
       "  <tbody>\n",
       "    <tr>\n",
       "      <th>0</th>\n",
       "      <td>Superman</td>\n",
       "      <td>12/15/1978</td>\n",
       "      <td>$134,478,449</td>\n",
       "      <td>$166,000,000</td>\n",
       "      <td>300478449.0</td>\n",
       "      <td>55000000.0</td>\n",
       "      <td>False</td>\n",
       "      <td>Warner Bros.</td>\n",
       "      <td>PG</td>\n",
       "      <td>143.0</td>\n",
       "      <td>...</td>\n",
       "      <td>1978.0</td>\n",
       "      <td>$1,404,237,104</td>\n",
       "      <td>$257,033,544</td>\n",
       "      <td>True</td>\n",
       "      <td>False</td>\n",
       "      <td>False</td>\n",
       "      <td>False</td>\n",
       "      <td>True</td>\n",
       "      <td>False</td>\n",
       "      <td>True</td>\n",
       "    </tr>\n",
       "    <tr>\n",
       "      <th>1</th>\n",
       "      <td>Superman II</td>\n",
       "      <td>06/19/1981</td>\n",
       "      <td>$108,185,706</td>\n",
       "      <td>$108,200,000</td>\n",
       "      <td>216385706.0</td>\n",
       "      <td>54000000.0</td>\n",
       "      <td>False</td>\n",
       "      <td>Warner Bros.</td>\n",
       "      <td>PG</td>\n",
       "      <td>127.0</td>\n",
       "      <td>...</td>\n",
       "      <td>1981.0</td>\n",
       "      <td>$725,336,273</td>\n",
       "      <td>$181,010,842</td>\n",
       "      <td>True</td>\n",
       "      <td>False</td>\n",
       "      <td>False</td>\n",
       "      <td>False</td>\n",
       "      <td>True</td>\n",
       "      <td>False</td>\n",
       "      <td>True</td>\n",
       "    </tr>\n",
       "    <tr>\n",
       "      <th>2</th>\n",
       "      <td>Superman III</td>\n",
       "      <td>06/17/1983</td>\n",
       "      <td>$59,950,623</td>\n",
       "      <td>$20,300,000</td>\n",
       "      <td>80250623.0</td>\n",
       "      <td>39000000.0</td>\n",
       "      <td>False</td>\n",
       "      <td>Warner Bros.</td>\n",
       "      <td>PG</td>\n",
       "      <td>125.0</td>\n",
       "      <td>...</td>\n",
       "      <td>1983.0</td>\n",
       "      <td>$245,506,947</td>\n",
       "      <td>$119,310,861</td>\n",
       "      <td>True</td>\n",
       "      <td>False</td>\n",
       "      <td>False</td>\n",
       "      <td>False</td>\n",
       "      <td>True</td>\n",
       "      <td>True</td>\n",
       "      <td>False</td>\n",
       "    </tr>\n",
       "    <tr>\n",
       "      <th>3</th>\n",
       "      <td>Supergirl</td>\n",
       "      <td>11/21/1984</td>\n",
       "      <td>$14,296,438</td>\n",
       "      <td>0</td>\n",
       "      <td>14296438.0</td>\n",
       "      <td>35000000.0</td>\n",
       "      <td>False</td>\n",
       "      <td>Tri-Star Pictures</td>\n",
       "      <td>PG</td>\n",
       "      <td>124.0</td>\n",
       "      <td>...</td>\n",
       "      <td>1984.0</td>\n",
       "      <td>$41,926,345</td>\n",
       "      <td>$102,642,497</td>\n",
       "      <td>True</td>\n",
       "      <td>False</td>\n",
       "      <td>False</td>\n",
       "      <td>True</td>\n",
       "      <td>False</td>\n",
       "      <td>True</td>\n",
       "      <td>False</td>\n",
       "    </tr>\n",
       "    <tr>\n",
       "      <th>4</th>\n",
       "      <td>Howard the Duck</td>\n",
       "      <td>08/01/1986</td>\n",
       "      <td>$16,295,774</td>\n",
       "      <td>$21,667,000</td>\n",
       "      <td>37962774.0</td>\n",
       "      <td>37000000.0</td>\n",
       "      <td>False</td>\n",
       "      <td>Universal Pictures</td>\n",
       "      <td>PG</td>\n",
       "      <td>110.0</td>\n",
       "      <td>...</td>\n",
       "      <td>1986.0</td>\n",
       "      <td>$37,962,774</td>\n",
       "      <td>$37,000,000</td>\n",
       "      <td>False</td>\n",
       "      <td>True</td>\n",
       "      <td>False</td>\n",
       "      <td>False</td>\n",
       "      <td>True</td>\n",
       "      <td>True</td>\n",
       "      <td>False</td>\n",
       "    </tr>\n",
       "  </tbody>\n",
       "</table>\n",
       "<p>5 rows × 22 columns</p>\n",
       "</div>"
      ],
      "text/plain": [
       "              Film U.S. release date  \\\n",
       "0         Superman        12/15/1978   \n",
       "1      Superman II        06/19/1981   \n",
       "2     Superman III        06/17/1983   \n",
       "3        Supergirl        11/21/1984   \n",
       "4  Howard the Duck        08/01/1986   \n",
       "\n",
       "  Box office gross Domestic (U.S. and Canada )  \\\n",
       "0                                 $134,478,449   \n",
       "1                                 $108,185,706   \n",
       "2                                  $59,950,623   \n",
       "3                                  $14,296,438   \n",
       "4                                  $16,295,774   \n",
       "\n",
       "  Box office gross Other territories  Box office gross Worldwide      Budget  \\\n",
       "0                       $166,000,000                 300478449.0  55000000.0   \n",
       "1                       $108,200,000                 216385706.0  54000000.0   \n",
       "2                        $20,300,000                  80250623.0  39000000.0   \n",
       "3                                  0                  14296438.0  35000000.0   \n",
       "4                        $21,667,000                  37962774.0  37000000.0   \n",
       "\n",
       "     MCU         Distributor MPAA Rating  Minutes  ...    Year  \\\n",
       "0  False        Warner Bros.          PG    143.0  ...  1978.0   \n",
       "1  False        Warner Bros.          PG    127.0  ...  1981.0   \n",
       "2  False        Warner Bros.          PG    125.0  ...  1983.0   \n",
       "3  False   Tri-Star Pictures          PG    124.0  ...  1984.0   \n",
       "4  False  Universal Pictures          PG    110.0  ...  1986.0   \n",
       "\n",
       "   Inflation Adjusted Worldwide Gross  Inflation Adjusted Budget Franchise_DC  \\\n",
       "0                      $1,404,237,104               $257,033,544         True   \n",
       "1                        $725,336,273               $181,010,842         True   \n",
       "2                        $245,506,947               $119,310,861         True   \n",
       "3                         $41,926,345               $102,642,497         True   \n",
       "4                         $37,962,774                $37,000,000        False   \n",
       "\n",
       "  Franchise_Marvel  Male/Female-led_Co-starring  Male/Female-led_Female  \\\n",
       "0            False                        False                   False   \n",
       "1            False                        False                   False   \n",
       "2            False                        False                   False   \n",
       "3            False                        False                    True   \n",
       "4             True                        False                   False   \n",
       "\n",
       "   Male/Female-led_Male  Break Even_Flop  Break Even_Success  \n",
       "0                  True            False                True  \n",
       "1                  True            False                True  \n",
       "2                  True             True               False  \n",
       "3                 False             True               False  \n",
       "4                  True             True               False  \n",
       "\n",
       "[5 rows x 22 columns]"
      ]
     },
     "execution_count": 11,
     "metadata": {},
     "output_type": "execute_result"
    }
   ],
   "source": [
    "df.head()"
   ]
  },
  {
   "cell_type": "markdown",
   "id": "ee0cd8da-450f-4a5b-9c7c-69ab02bdf9ce",
   "metadata": {},
   "source": [
    "Adding these columns will make this easier for evaluation, as these dummies can be applied with only 2 answers per feature."
   ]
  },
  {
   "cell_type": "markdown",
   "id": "7f139a32-8ba7-4cf5-817a-f0568681fbeb",
   "metadata": {},
   "source": [
    "With this being completed, I believe my data has been fully prepared for evaluation in the future. We have been able to drop unneccesary features, fill missing values to make sure the data can be viewed properly, converted dummies for 3 seperate columns. We have already cleaned the data within the EDA stage, within the necessary edits that were done before, and I fully now have believe I will be able to show and build models for evaulation to complete my goal of predicting box office success. "
   ]
  },
  {
   "cell_type": "markdown",
   "id": "47e42ddd-5460-487c-8851-d0405a9508c3",
   "metadata": {},
   "source": [
    "# Milestone 3: Model Building and Evaluation"
   ]
  },
  {
   "cell_type": "markdown",
   "id": "1f51a219-1c5c-445d-9d0c-09b9dcb515a0",
   "metadata": {
    "jp-MarkdownHeadingCollapsed": true
   },
   "source": [
    "### imports"
   ]
  },
  {
   "cell_type": "code",
   "execution_count": 12,
   "id": "f45a5b7a-f9b9-43d5-a52e-aa29887d9986",
   "metadata": {},
   "outputs": [],
   "source": [
    "from sklearn.model_selection import train_test_split\n",
    "from sklearn.preprocessing import StandardScaler\n",
    "from sklearn.linear_model import LinearRegression\n",
    "from sklearn.metrics import mean_squared_error, r2_score\n",
    "import numpy as np\n",
    "from sklearn.preprocessing import PolynomialFeatures\n",
    "from sklearn.ensemble import RandomForestRegressor"
   ]
  },
  {
   "cell_type": "markdown",
   "id": "57021f3a-06bf-4df9-9b81-222c8ca91971",
   "metadata": {},
   "source": [
    "### Step 1: Fixing Previous Mistakes, Per Professor"
   ]
  },
  {
   "cell_type": "code",
   "execution_count": 13,
   "id": "a9f2ac1e-b5b1-433a-88a5-164ee8f3657c",
   "metadata": {},
   "outputs": [],
   "source": [
    "currency_columns = ['Inflation Adjusted Worldwide Gross', 'Inflation Adjusted Budget',  'Box office gross Other territories', 'Box office gross Domestic (U.S. and Canada )']\n",
    "for col in currency_columns:\n",
    "    df[col] = df[col].replace('[\\$,]', '', regex=True).astype(float)\n",
    "\n",
    "df.fillna(df.median(numeric_only=True), inplace=True)\n",
    "df.fillna(df.mode().iloc[0], inplace=True)\n",
    "\n",
    "categorical_features = df.select_dtypes(include=['object', 'bool']).columns\n",
    "numerical_features = df.select_dtypes(include=['int64', 'float64']).columns"
   ]
  },
  {
   "cell_type": "markdown",
   "id": "fa3dc82a-e482-4084-83e1-26636364ff89",
   "metadata": {},
   "source": [
    "For my remarks on milestone 2, there were some small corrections that needed to be made. I needed to convert currency columns, which included the $. I also needed to encode and fill in categorical data, which can cause issues in my code."
   ]
  },
  {
   "cell_type": "markdown",
   "id": "bb01b057-3c59-47b8-a46e-9f7da5a81597",
   "metadata": {},
   "source": [
    "### Step 2: Random Forest Regressor Model"
   ]
  },
  {
   "cell_type": "code",
   "execution_count": 23,
   "id": "d6f679d2-fb30-499e-a9fc-5427c6e8f733",
   "metadata": {},
   "outputs": [
    {
     "name": "stdout",
     "output_type": "stream",
     "text": [
      "Random Forest MSE: 0.24050968532743144\n",
      "Random Forest R^2 Score: 0.8356891407060458\n"
     ]
    }
   ],
   "source": [
    "from sklearn.preprocessing import PolynomialFeatures\n",
    "from sklearn.pipeline import make_pipeline\n",
    "from sklearn.ensemble import RandomForestRegressor\n",
    "\n",
    "features = ['Budget', 'Minutes', 'Year']\n",
    "target = 'Box office gross Worldwide'\n",
    "\n",
    "X = df[features]\n",
    "y = df[target]\n",
    "\n",
    "X = X.fillna(X.median())\n",
    "y = y.fillna(y.median())\n",
    "\n",
    "# Log transformation of target variable\n",
    "y_log = np.log1p(y)\n",
    "\n",
    "scaler = StandardScaler()\n",
    "X_scaled = scaler.fit_transform(X)\n",
    "\n",
    "# Create polynomial features\n",
    "poly = PolynomialFeatures(degree=2, include_bias=False)\n",
    "X_poly = poly.fit_transform(X_scaled)\n",
    "\n",
    "# Modeling the data\n",
    "X_train, X_test, y_train, y_test = train_test_split(X_poly, y_log, test_size=0.2, random_state=42)\n",
    "\n",
    "model = LinearRegression()\n",
    "model.fit(X_train, y_train)\n",
    "\n",
    "y_pred_log = model.predict(X_test)\n",
    "\n",
    "rf = RandomForestRegressor(n_estimators=100, random_state=42)\n",
    "rf.fit(X_train, y_train)\n",
    "\n",
    "y_pred = rf.predict(X_test)\n",
    "\n",
    "# Model Evaluation\n",
    "mse = mean_squared_error(y_test, y_pred)\n",
    "r2 = r2_score(y_test, y_pred)\n",
    "\n",
    "print(f'Random Forest MSE: {mse}')\n",
    "print(f'Random Forest R^2 Score: {r2}')"
   ]
  },
  {
   "cell_type": "markdown",
   "id": "523759a9-c2da-4447-a489-40d78ec49ad8",
   "metadata": {},
   "source": [
    "After some trial and eror with other types of models, the one that gave me the greatest score for my selected target, Box office gross Worldwide, was the Random Forest Regressor Model. However, this needed some steps done to get to the specific score of .24 for MSE and 83% for my R^2 score. \n",
    "\n",
    "First, I needed to apply a log transformation to the target variable, which would give the greater chance to reduce outliers outcomes and warp the distributions. \n",
    "\n",
    "After this, I needed to try the polynomial features, which helped use a simpler model algorithm to help improve the model's performance. With my sample size only being around 113 records in my database, it is worth it to use polynomial features, as the major drawbacks can cause additional input variables to expand the size of the model to get to a higher score. \n",
    "\n",
    "After comparing this model with other models I attempted to use beforehand, this shows that the Random Forest predictions are close to the actual values, with a score of .24. Also, with 83% being a showcase on how the variance is explained within this model.\n",
    "\n",
    "I could further optimize with this model by using Hyperparameter Tuning by using GridSearchCV, or other methods that can help continue to improve the scores that are listed above."
   ]
  }
 ],
 "metadata": {
  "kernelspec": {
   "display_name": "Python 3 (ipykernel)",
   "language": "python",
   "name": "python3"
  },
  "language_info": {
   "codemirror_mode": {
    "name": "ipython",
    "version": 3
   },
   "file_extension": ".py",
   "mimetype": "text/x-python",
   "name": "python",
   "nbconvert_exporter": "python",
   "pygments_lexer": "ipython3",
   "version": "3.11.7"
  }
 },
 "nbformat": 4,
 "nbformat_minor": 5
}
